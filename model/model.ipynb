{
 "cells": [
  {
   "cell_type": "code",
   "execution_count": 2,
   "metadata": {},
   "outputs": [],
   "source": [
    "import pybnf as pybnf"
   ]
  },
  {
   "cell_type": "code",
   "execution_count": 1,
   "metadata": {},
   "outputs": [
    {
     "name": "stdout",
     "output_type": "stream",
     "text": [
      "86\n"
     ]
    }
   ],
   "source": [
    "lower_bound = 0.001\n",
    "upper_bound = 10000\n",
    "\n",
    "bngl_model = open(\"model.bngl\", \"r\")\n",
    "bngl_conf = open(\"configtemp.txt\", \"w+\")\n",
    "param_lines = [param_line.strip(\"\\t\").strip(\"\\n\").split(\" \")[1] for param_line in bngl_model.readlines() if \"__FREE\" in param_line]\n",
    "log_vars = [\"loguniform_var=\" + param + f\" {lower_bound} {upper_bound}\" for param in param_lines if param != \"\"]\n",
    "print(len(log_vars))\n",
    "for i in log_vars:\n",
    "    bngl_conf.write(i + \"\\n\")\n",
    "bngl_conf.close()\n",
    "bngl_model.close()"
   ]
  },
  {
   "cell_type": "code",
   "execution_count": 15,
   "metadata": {},
   "outputs": [],
   "source": [
    "import numpy as np\n",
    "arr = np.array([\n",
    "    [5, 1*10**4],\n",
    "    [7, 1.54*10**4],\n",
    "    [9, 4*10**4],\n",
    "    [0, 6.5*10**4],\n",
    "    [15, 1.1*10**5]\n",
    "    ]\n",
    ") "
   ]
  },
  {
   "cell_type": "code",
   "execution_count": 2,
   "metadata": {},
   "outputs": [
    {
     "ename": "SyntaxError",
     "evalue": "invalid syntax (1102136943.py, line 1)",
     "output_type": "error",
     "traceback": [
      "\u001b[0;36m  Input \u001b[0;32mIn [2]\u001b[0;36m\u001b[0m\n\u001b[0;31m    def\u001b[0m\n\u001b[0m       ^\u001b[0m\n\u001b[0;31mSyntaxError\u001b[0m\u001b[0;31m:\u001b[0m invalid syntax\n"
     ]
    }
   ],
   "source": []
  },
  {
   "cell_type": "code",
   "execution_count": null,
   "metadata": {},
   "outputs": [],
   "source": []
  }
 ],
 "metadata": {
  "kernelspec": {
   "display_name": "Python 3.8.13 ('mlp')",
   "language": "python",
   "name": "python3"
  },
  "language_info": {
   "codemirror_mode": {
    "name": "ipython",
    "version": 3
   },
   "file_extension": ".py",
   "mimetype": "text/x-python",
   "name": "python",
   "nbconvert_exporter": "python",
   "pygments_lexer": "ipython3",
   "version": "3.8.13"
  },
  "orig_nbformat": 4,
  "vscode": {
   "interpreter": {
    "hash": "4976e0179d97dd6d59b1329a76e601e17b789c2571b41c8b57f5fd69821c0dd3"
   }
  }
 },
 "nbformat": 4,
 "nbformat_minor": 2
}
